{
 "cells": [
  {
   "attachments": {},
   "cell_type": "markdown",
   "metadata": {},
   "source": [
    "# Reporte escrito 2"
   ]
  },
  {
   "cell_type": "code",
   "execution_count": null,
   "metadata": {},
   "outputs": [],
   "source": [
    "# Instala dependencias\n",
    "!wget https://github.com/renatoparedes/EstadisticaYPsicologiaMatematica/raw/main/INEE/BaseReporte2.sav\n",
    "!pip install pingouin\n",
    "!pip install pyreadstat"
   ]
  },
  {
   "attachments": {},
   "cell_type": "markdown",
   "metadata": {},
   "source": [
    "En las respuestas deben indicar:\n",
    "\n",
    "- Hipótesis de trabajo e hipótesis estadísticas, de manera correspondiente.\n",
    "- Resultados de prueba de normalidad para las distribuciones de las variables de estudio.\n",
    "- Indicadores estadísticos utilizados (SW, F, r, R2 B, ß) así como el valor p correspondiente, y la magnitud según criterios de Cohen, de ser pertinente.\n",
    "- Redacción de las conclusiones."
   ]
  },
  {
   "attachments": {},
   "cell_type": "markdown",
   "metadata": {},
   "source": [
    "## Pregunta 1\n",
    "\n",
    "La literatura sobre el desarrollo humano temprano indica que la **autoeficacia parental** predice el **compromiso paterno** en la crianza en la niñez. Un grupo de investigación llevó a cabo un estudio para conocer si este factor estima el compromiso reportado por papás en la región Loreto (8 pts).\n",
    "\n",
    "a) Escribe la hipótesis de trabajo (HT) así como las hipótesis estadísticas (H0 y H1) correspondiente a la variable predictora del modelo a analizar. \n",
    "\n",
    "b) Plantea la ecuación del modelo para la HT. \n",
    "\n",
    "c) Analiza si existe evidencia de la asociación entre las variables con un gráfico de dispersión y reporta los resultados de la prueba de correlación pertinente.\n",
    "\n",
    "d) Indica si el modelo presenta un buen ajuste, así como el coeficiente de determinación considerando su variabilidad y magnitud de acuerdo con los criterios de Cohen.\n",
    "\n",
    "e) Reporta los resultados de los coeficientes del modelo e indica si se cumple la hipótesis del estudio, elaborando tu conclusión."
   ]
  },
  {
   "cell_type": "code",
   "execution_count": 16,
   "metadata": {},
   "outputs": [
    {
     "data": {
      "text/html": [
       "<div>\n",
       "<style scoped>\n",
       "    .dataframe tbody tr th:only-of-type {\n",
       "        vertical-align: middle;\n",
       "    }\n",
       "\n",
       "    .dataframe tbody tr th {\n",
       "        vertical-align: top;\n",
       "    }\n",
       "\n",
       "    .dataframe thead th {\n",
       "        text-align: right;\n",
       "    }\n",
       "</style>\n",
       "<table border=\"1\" class=\"dataframe\">\n",
       "  <thead>\n",
       "    <tr style=\"text-align: right;\">\n",
       "      <th></th>\n",
       "      <th>Código</th>\n",
       "      <th>Edad</th>\n",
       "      <th>AutoeficaciaP</th>\n",
       "      <th>Insatisfacción</th>\n",
       "      <th>Conservadurismo</th>\n",
       "      <th>CompromisoP</th>\n",
       "    </tr>\n",
       "  </thead>\n",
       "  <tbody>\n",
       "    <tr>\n",
       "      <th>0</th>\n",
       "      <td>001</td>\n",
       "      <td>25.0</td>\n",
       "      <td>16.0</td>\n",
       "      <td>25.0</td>\n",
       "      <td>9.0</td>\n",
       "      <td>37.0</td>\n",
       "    </tr>\n",
       "    <tr>\n",
       "      <th>1</th>\n",
       "      <td>002</td>\n",
       "      <td>38.0</td>\n",
       "      <td>18.0</td>\n",
       "      <td>17.0</td>\n",
       "      <td>6.0</td>\n",
       "      <td>42.0</td>\n",
       "    </tr>\n",
       "    <tr>\n",
       "      <th>2</th>\n",
       "      <td>003</td>\n",
       "      <td>28.0</td>\n",
       "      <td>19.0</td>\n",
       "      <td>16.0</td>\n",
       "      <td>10.0</td>\n",
       "      <td>35.0</td>\n",
       "    </tr>\n",
       "    <tr>\n",
       "      <th>3</th>\n",
       "      <td>004</td>\n",
       "      <td>32.0</td>\n",
       "      <td>24.0</td>\n",
       "      <td>23.0</td>\n",
       "      <td>10.0</td>\n",
       "      <td>76.0</td>\n",
       "    </tr>\n",
       "    <tr>\n",
       "      <th>4</th>\n",
       "      <td>005</td>\n",
       "      <td>26.0</td>\n",
       "      <td>22.0</td>\n",
       "      <td>21.0</td>\n",
       "      <td>11.0</td>\n",
       "      <td>39.0</td>\n",
       "    </tr>\n",
       "    <tr>\n",
       "      <th>...</th>\n",
       "      <td>...</td>\n",
       "      <td>...</td>\n",
       "      <td>...</td>\n",
       "      <td>...</td>\n",
       "      <td>...</td>\n",
       "      <td>...</td>\n",
       "    </tr>\n",
       "    <tr>\n",
       "      <th>95</th>\n",
       "      <td>096</td>\n",
       "      <td>37.0</td>\n",
       "      <td>18.0</td>\n",
       "      <td>19.0</td>\n",
       "      <td>8.0</td>\n",
       "      <td>43.0</td>\n",
       "    </tr>\n",
       "    <tr>\n",
       "      <th>96</th>\n",
       "      <td>097</td>\n",
       "      <td>48.0</td>\n",
       "      <td>26.0</td>\n",
       "      <td>21.0</td>\n",
       "      <td>10.0</td>\n",
       "      <td>65.0</td>\n",
       "    </tr>\n",
       "    <tr>\n",
       "      <th>97</th>\n",
       "      <td>098</td>\n",
       "      <td>35.0</td>\n",
       "      <td>19.0</td>\n",
       "      <td>26.0</td>\n",
       "      <td>12.0</td>\n",
       "      <td>50.0</td>\n",
       "    </tr>\n",
       "    <tr>\n",
       "      <th>98</th>\n",
       "      <td>099</td>\n",
       "      <td>30.0</td>\n",
       "      <td>17.0</td>\n",
       "      <td>27.0</td>\n",
       "      <td>14.0</td>\n",
       "      <td>30.0</td>\n",
       "    </tr>\n",
       "    <tr>\n",
       "      <th>99</th>\n",
       "      <td>100</td>\n",
       "      <td>31.0</td>\n",
       "      <td>21.0</td>\n",
       "      <td>25.0</td>\n",
       "      <td>11.0</td>\n",
       "      <td>48.0</td>\n",
       "    </tr>\n",
       "  </tbody>\n",
       "</table>\n",
       "<p>100 rows × 6 columns</p>\n",
       "</div>"
      ],
      "text/plain": [
       "   Código  Edad  AutoeficaciaP  Insatisfacción  Conservadurismo  CompromisoP\n",
       "0     001  25.0           16.0            25.0              9.0         37.0\n",
       "1     002  38.0           18.0            17.0              6.0         42.0\n",
       "2     003  28.0           19.0            16.0             10.0         35.0\n",
       "3     004  32.0           24.0            23.0             10.0         76.0\n",
       "4     005  26.0           22.0            21.0             11.0         39.0\n",
       "..    ...   ...            ...             ...              ...          ...\n",
       "95    096  37.0           18.0            19.0              8.0         43.0\n",
       "96    097  48.0           26.0            21.0             10.0         65.0\n",
       "97    098  35.0           19.0            26.0             12.0         50.0\n",
       "98    099  30.0           17.0            27.0             14.0         30.0\n",
       "99    100  31.0           21.0            25.0             11.0         48.0\n",
       "\n",
       "[100 rows x 6 columns]"
      ]
     },
     "execution_count": 16,
     "metadata": {},
     "output_type": "execute_result"
    }
   ],
   "source": [
    "import pandas as pd\n",
    "import numpy as np\n",
    "import statsmodels.formula.api as smf\n",
    "import statsmodels.stats.api as sms\n",
    "import statsmodels.api as sm\n",
    "import seaborn as sns\n",
    "import matplotlib.pyplot as plt\n",
    "\n",
    "df = pd.read_spss(\"BaseReporte2.sav\")\n",
    "df"
   ]
  },
  {
   "attachments": {},
   "cell_type": "markdown",
   "metadata": {},
   "source": [
    "### Solución"
   ]
  },
  {
   "attachments": {},
   "cell_type": "markdown",
   "metadata": {},
   "source": [
    "HT: La autoeficacia parental predice el compromiso paterno en la crianza en papás de Loreto.\n",
    "\n",
    "$H_{0}$: $β_{autoeficacia} = 0$, autoeficacia no predice el compromiso paterno.\n",
    "\n",
    "$H_{1}$: $β_{autoeficacia} \\neq 0$, autoeficacia predice el compromiso paterno."
   ]
  },
  {
   "attachments": {},
   "cell_type": "markdown",
   "metadata": {},
   "source": [
    "$Compromiso \\ paterno = β_{0} + β_{1}(autoeficacia \\ parental) \\pm \\epsilon$, con $β_{1} \\neq 0$"
   ]
  },
  {
   "cell_type": "code",
   "execution_count": 18,
   "metadata": {},
   "outputs": [
    {
     "data": {
      "image/png": "[encoded data removed]",
      "text/plain": [
       "<Figure size 640x480 with 1 Axes>"
      ]
     },
     "metadata": {},
     "output_type": "display_data"
    }
   ],
   "source": [
    "ax = sns.regplot(x=\"AutoeficaciaP\", y=\"CompromisoP\", data=df)\n",
    "ax.set_xlabel(\"Autoeficacia parental\", size=14)\n",
    "ax.set_ylabel(\"Compromiso paterno\", size=14)\n",
    "plt.show()"
   ]
  },
  {
   "attachments": {},
   "cell_type": "markdown",
   "metadata": {},
   "source": [
    "A partir del gráfico, se observa una posible tendencia lineal positiva entre las variables, de modo que a mayor autoeficacia parental, un mayor compromiso paterno. "
   ]
  },
  {
   "cell_type": "code",
   "execution_count": 4,
   "metadata": {},
   "outputs": [
    {
     "data": {
      "text/html": [
       "<div>\n",
       "<style scoped>\n",
       "    .dataframe tbody tr th:only-of-type {\n",
       "        vertical-align: middle;\n",
       "    }\n",
       "\n",
       "    .dataframe tbody tr th {\n",
       "        vertical-align: top;\n",
       "    }\n",
       "\n",
       "    .dataframe thead th {\n",
       "        text-align: right;\n",
       "    }\n",
       "</style>\n",
       "<table border=\"1\" class=\"dataframe\">\n",
       "  <thead>\n",
       "    <tr style=\"text-align: right;\">\n",
       "      <th></th>\n",
       "      <th>W</th>\n",
       "      <th>pval</th>\n",
       "      <th>normal</th>\n",
       "    </tr>\n",
       "  </thead>\n",
       "  <tbody>\n",
       "    <tr>\n",
       "      <th>AutoeficaciaP</th>\n",
       "      <td>0.980055</td>\n",
       "      <td>0.134252</td>\n",
       "      <td>True</td>\n",
       "    </tr>\n",
       "    <tr>\n",
       "      <th>CompromisoP</th>\n",
       "      <td>0.983924</td>\n",
       "      <td>0.264967</td>\n",
       "      <td>True</td>\n",
       "    </tr>\n",
       "  </tbody>\n",
       "</table>\n",
       "</div>"
      ],
      "text/plain": [
       "                      W      pval  normal\n",
       "AutoeficaciaP  0.980055  0.134252    True\n",
       "CompromisoP    0.983924  0.264967    True"
      ]
     },
     "execution_count": 4,
     "metadata": {},
     "output_type": "execute_result"
    }
   ],
   "source": [
    "import pingouin as pg\n",
    "\n",
    "pg.normality(df[[\"AutoeficaciaP\", \"CompromisoP\"]])"
   ]
  },
  {
   "attachments": {},
   "cell_type": "markdown",
   "metadata": {},
   "source": [
    "De acuerdo con los resultados de la prueba Shapiro-Wilk, todas las variables presentaron distribución normal: autoeficacia parental, SW =.98, p =.13 y compromiso paterno, SW =.98, p=.27. Por ello, se utilizó el análisis de correlación de Pearson."
   ]
  },
  {
   "cell_type": "code",
   "execution_count": 7,
   "metadata": {},
   "outputs": [
    {
     "data": {
      "text/html": [
       "<div>\n",
       "<style scoped>\n",
       "    .dataframe tbody tr th:only-of-type {\n",
       "        vertical-align: middle;\n",
       "    }\n",
       "\n",
       "    .dataframe tbody tr th {\n",
       "        vertical-align: top;\n",
       "    }\n",
       "\n",
       "    .dataframe thead th {\n",
       "        text-align: right;\n",
       "    }\n",
       "</style>\n",
       "<table border=\"1\" class=\"dataframe\">\n",
       "  <thead>\n",
       "    <tr style=\"text-align: right;\">\n",
       "      <th></th>\n",
       "      <th>X</th>\n",
       "      <th>Y</th>\n",
       "      <th>method</th>\n",
       "      <th>alternative</th>\n",
       "      <th>n</th>\n",
       "      <th>r</th>\n",
       "      <th>CI95%</th>\n",
       "      <th>p-unc</th>\n",
       "      <th>BF10</th>\n",
       "      <th>power</th>\n",
       "    </tr>\n",
       "  </thead>\n",
       "  <tbody>\n",
       "    <tr>\n",
       "      <th>0</th>\n",
       "      <td>AutoeficaciaP</td>\n",
       "      <td>CompromisoP</td>\n",
       "      <td>pearson</td>\n",
       "      <td>two-sided</td>\n",
       "      <td>100</td>\n",
       "      <td>0.69819</td>\n",
       "      <td>[0.58, 0.79]</td>\n",
       "      <td>6.808635e-16</td>\n",
       "      <td>1.096e+13</td>\n",
       "      <td>1.0</td>\n",
       "    </tr>\n",
       "  </tbody>\n",
       "</table>\n",
       "</div>"
      ],
      "text/plain": [
       "               X            Y   method alternative    n        r  \\\n",
       "0  AutoeficaciaP  CompromisoP  pearson   two-sided  100  0.69819   \n",
       "\n",
       "          CI95%         p-unc       BF10  power  \n",
       "0  [0.58, 0.79]  6.808635e-16  1.096e+13    1.0  "
      ]
     },
     "execution_count": 7,
     "metadata": {},
     "output_type": "execute_result"
    }
   ],
   "source": [
    "pg.pairwise_corr(\n",
    "    columns=[\"AutoeficaciaP\", \"CompromisoP\"],\n",
    "    method=\"pearson\",\n",
    "    data=df,\n",
    "    alternative=\"two-sided\",\n",
    ")"
   ]
  },
  {
   "attachments": {},
   "cell_type": "markdown",
   "metadata": {},
   "source": [
    "Se encontró una asociación directa significativa entre autoeficacia parental y compromiso paterno r(98) = .70, p<.001, con una magnitud grande, según los criterios de Cohen. "
   ]
  },
  {
   "cell_type": "code",
   "execution_count": 23,
   "metadata": {},
   "outputs": [
    {
     "data": {
      "text/html": [
       "<table class=\"simpletable\">\n",
       "<caption>OLS Regression Results</caption>\n",
       "<tr>\n",
       "  <th>Dep. Variable:</th>       <td>CompromisoP</td>   <th>  R-squared:         </th> <td>   0.487</td>\n",
       "</tr>\n",
       "<tr>\n",
       "  <th>Model:</th>                   <td>OLS</td>       <th>  Adj. R-squared:    </th> <td>   0.482</td>\n",
       "</tr>\n",
       "<tr>\n",
       "  <th>Method:</th>             <td>Least Squares</td>  <th>  F-statistic:       </th> <td>   93.21</td>\n",
       "</tr>\n",
       "<tr>\n",
       "  <th>Date:</th>             <td>Wed, 17 May 2023</td> <th>  Prob (F-statistic):</th> <td>6.81e-16</td>\n",
       "</tr>\n",
       "<tr>\n",
       "  <th>Time:</th>                 <td>07:50:43</td>     <th>  Log-Likelihood:    </th> <td> -371.47</td>\n",
       "</tr>\n",
       "<tr>\n",
       "  <th>No. Observations:</th>      <td>   100</td>      <th>  AIC:               </th> <td>   746.9</td>\n",
       "</tr>\n",
       "<tr>\n",
       "  <th>Df Residuals:</th>          <td>    98</td>      <th>  BIC:               </th> <td>   752.2</td>\n",
       "</tr>\n",
       "<tr>\n",
       "  <th>Df Model:</th>              <td>     1</td>      <th>                     </th>     <td> </td>   \n",
       "</tr>\n",
       "<tr>\n",
       "  <th>Covariance Type:</th>      <td>nonrobust</td>    <th>                     </th>     <td> </td>   \n",
       "</tr>\n",
       "</table>\n",
       "<table class=\"simpletable\">\n",
       "<tr>\n",
       "        <td></td>           <th>coef</th>     <th>std err</th>      <th>t</th>      <th>P>|t|</th>  <th>[0.025</th>    <th>0.975]</th>  \n",
       "</tr>\n",
       "<tr>\n",
       "  <th>Intercept</th>     <td>   -6.7784</td> <td>    6.037</td> <td>   -1.123</td> <td> 0.264</td> <td>  -18.758</td> <td>    5.201</td>\n",
       "</tr>\n",
       "<tr>\n",
       "  <th>AutoeficaciaP</th> <td>    2.5969</td> <td>    0.269</td> <td>    9.654</td> <td> 0.000</td> <td>    2.063</td> <td>    3.131</td>\n",
       "</tr>\n",
       "</table>\n",
       "<table class=\"simpletable\">\n",
       "<tr>\n",
       "  <th>Omnibus:</th>       <td> 1.445</td> <th>  Durbin-Watson:     </th> <td>   1.965</td>\n",
       "</tr>\n",
       "<tr>\n",
       "  <th>Prob(Omnibus):</th> <td> 0.485</td> <th>  Jarque-Bera (JB):  </th> <td>   1.510</td>\n",
       "</tr>\n",
       "<tr>\n",
       "  <th>Skew:</th>          <td>-0.265</td> <th>  Prob(JB):          </th> <td>   0.470</td>\n",
       "</tr>\n",
       "<tr>\n",
       "  <th>Kurtosis:</th>      <td> 2.714</td> <th>  Cond. No.          </th> <td>    135.</td>\n",
       "</tr>\n",
       "</table><br/><br/>Notes:<br/>[1] Standard Errors assume that the covariance matrix of the errors is correctly specified."
      ],
      "text/plain": [
       "<class 'statsmodels.iolib.summary.Summary'>\n",
       "\"\"\"\n",
       "                            OLS Regression Results                            \n",
       "==============================================================================\n",
       "Dep. Variable:            CompromisoP   R-squared:                       0.487\n",
       "Model:                            OLS   Adj. R-squared:                  0.482\n",
       "Method:                 Least Squares   F-statistic:                     93.21\n",
       "Date:                Wed, 17 May 2023   Prob (F-statistic):           6.81e-16\n",
       "Time:                        07:50:43   Log-Likelihood:                -371.47\n",
       "No. Observations:                 100   AIC:                             746.9\n",
       "Df Residuals:                      98   BIC:                             752.2\n",
       "Df Model:                           1                                         \n",
       "Covariance Type:            nonrobust                                         \n",
       "=================================================================================\n",
       "                    coef    std err          t      P>|t|      [0.025      0.975]\n",
       "---------------------------------------------------------------------------------\n",
       "Intercept        -6.7784      6.037     -1.123      0.264     -18.758       5.201\n",
       "AutoeficaciaP     2.5969      0.269      9.654      0.000       2.063       3.131\n",
       "==============================================================================\n",
       "Omnibus:                        1.445   Durbin-Watson:                   1.965\n",
       "Prob(Omnibus):                  0.485   Jarque-Bera (JB):                1.510\n",
       "Skew:                          -0.265   Prob(JB):                        0.470\n",
       "Kurtosis:                       2.714   Cond. No.                         135.\n",
       "==============================================================================\n",
       "\n",
       "Notes:\n",
       "[1] Standard Errors assume that the covariance matrix of the errors is correctly specified.\n",
       "\"\"\""
      ]
     },
     "execution_count": 23,
     "metadata": {},
     "output_type": "execute_result"
    }
   ],
   "source": [
    "# Fit regression model\n",
    "model = smf.ols(\"CompromisoP ~ AutoeficaciaP\", data=df).fit()\n",
    "model.summary()"
   ]
  },
  {
   "cell_type": "code",
   "execution_count": 24,
   "metadata": {},
   "outputs": [
    {
     "name": "stdout",
     "output_type": "stream",
     "text": [
      "Error estándar de la estimación: 10.033045316903534\n"
     ]
    }
   ],
   "source": [
    "error = np.sqrt(model.mse_resid)\n",
    "print(\"Error estándar de la estimación:\", error)"
   ]
  },
  {
   "attachments": {},
   "cell_type": "markdown",
   "metadata": {},
   "source": [
    "El resultado de la prueba de ANOVA fue de F(1, 98)=93.21, p<.001, por lo que el modelo es adecuado para estimar el compromiso paterno. \n",
    "\n",
    "Además, el R2 ajustado fue .482 por lo que se puede decir que el 48.2% de la variación que se observa en el compromiso paterno se explica por la autoeficacia parental. Según el criterio de Cohen (1988) el coeficiente de determinación es grande."
   ]
  },
  {
   "attachments": {},
   "cell_type": "markdown",
   "metadata": {},
   "source": [
    "El análisis de regresión lineal indica que el $β_{0}=-6.78$, p=.264 (no significativo) y $β_{autoeficacia}= 2.60$, $p<.001$.\n",
    "\n",
    "En el caso de la autoeficacia parental se encontró que predice el compromiso paterno de manera directa y significativa, es decir, a cada incremento de una unidad en autoeficacia se observa un aumento de 2.60 en compromiso paterno. \n",
    "\n",
    "Por ello se concluye que la HT se cumple y que la autoeficacia parental predice significativamente el compromiso paterno en papás de Loreto."
   ]
  },
  {
   "attachments": {},
   "cell_type": "markdown",
   "metadata": {},
   "source": [
    "## Pregunta 2\n",
    "\n",
    "De acuerdo con los resultados del modelo analizado previamente, si se cuenta con un participante que puntúa 27 en autoeficacia parental, ¿cuánto sería el puntaje de compromiso paterno estimado? (2 pts)                 "
   ]
  },
  {
   "attachments": {},
   "cell_type": "markdown",
   "metadata": {},
   "source": [
    "### Solución"
   ]
  },
  {
   "attachments": {},
   "cell_type": "markdown",
   "metadata": {},
   "source": [
    "$Compromiso \\ paterno = 2.60 (autoeficacia) \\pm 10.03$\n",
    "\n",
    "$Compromiso paterno = 70.2 \\pm 10.03$\n",
    "\n",
    "$Compromiso paterno = [59.9, 80.5]$"
   ]
  },
  {
   "attachments": {},
   "cell_type": "markdown",
   "metadata": {},
   "source": [
    "## Pregunta 3\n",
    "\n",
    "En el mismo estudio, se evaluó si el conservadurismo era un factor de riesgo en el compromiso paterno en papás de preescolares. Para ello, se planteó conocer si el **conservadurismo** del padre contribuye a un menor **compromiso** en la crianza (8 pts).\n",
    "\n",
    "a) Redacta la hipótesis de trabajo (HT) y las hipótesis estadísticas respectivas.\n",
    "\n",
    "b) Plantea la ecuación del modelo para la HT. \n",
    "\n",
    "c) Analiza si existe evidencia de la asociación entre las variables con un gráfico de dispersión y reporta los resultados de la prueba de correlación pertinente.\n",
    "\n",
    "d) Indica si el modelo presenta un buen ajuste, así como el coeficiente de determinación considerando su variabilidad y magnitud de acuerdo con los criterios de Cohen.\n",
    "\n",
    "e) Reporta los resultados de los coeficientes del modelo e indica si se cumple la hipótesis del estudio, elaborando tu conclusión."
   ]
  },
  {
   "attachments": {},
   "cell_type": "markdown",
   "metadata": {},
   "source": [
    "### Solución"
   ]
  },
  {
   "attachments": {},
   "cell_type": "markdown",
   "metadata": {},
   "source": [
    "HT: El conservadurismo predice un menor compromiso paterno en papás de preescolares en Loreto.\n",
    "\n",
    "$H_{0}$: $β = 0$, el conservadurismo no predice el compromiso paterno.\n",
    "\n",
    "$H_{1}$: $β < 0$, el conservadurismo predice un menor compromiso paterno.\n"
   ]
  },
  {
   "attachments": {},
   "cell_type": "markdown",
   "metadata": {},
   "source": [
    "$Compromiso \\ paterno = β_{0} – β_{1} (conservadurismo) ± \\epsilon$, $β < 0$"
   ]
  },
  {
   "cell_type": "code",
   "execution_count": 19,
   "metadata": {},
   "outputs": [
    {
     "data": {
      "image/png": "[encoded data removed]",
      "text/plain": [
       "<Figure size 640x480 with 1 Axes>"
      ]
     },
     "metadata": {},
     "output_type": "display_data"
    }
   ],
   "source": [
    "ax = sns.regplot(x=\"Conservadurismo\", y=\"CompromisoP\", data=df)\n",
    "ax.set_xlabel(\"Conservadurismo\", size=14)\n",
    "ax.set_ylabel(\"Compromiso paterno\", size=14)\n",
    "plt.show()"
   ]
  },
  {
   "attachments": {},
   "cell_type": "markdown",
   "metadata": {},
   "source": [
    "En primer lugar, el diagrama de dispersión sugiere una ligera relación lineal inversa entre las variables debido a que la nube de puntos muestra que altos valores de conservadurismo corresponden con bajos valores de compromiso paterno, y viceversa."
   ]
  },
  {
   "cell_type": "code",
   "execution_count": 20,
   "metadata": {},
   "outputs": [
    {
     "data": {
      "text/html": [
       "<div>\n",
       "<style scoped>\n",
       "    .dataframe tbody tr th:only-of-type {\n",
       "        vertical-align: middle;\n",
       "    }\n",
       "\n",
       "    .dataframe tbody tr th {\n",
       "        vertical-align: top;\n",
       "    }\n",
       "\n",
       "    .dataframe thead th {\n",
       "        text-align: right;\n",
       "    }\n",
       "</style>\n",
       "<table border=\"1\" class=\"dataframe\">\n",
       "  <thead>\n",
       "    <tr style=\"text-align: right;\">\n",
       "      <th></th>\n",
       "      <th>W</th>\n",
       "      <th>pval</th>\n",
       "      <th>normal</th>\n",
       "    </tr>\n",
       "  </thead>\n",
       "  <tbody>\n",
       "    <tr>\n",
       "      <th>Conservadurismo</th>\n",
       "      <td>0.976677</td>\n",
       "      <td>0.073023</td>\n",
       "      <td>True</td>\n",
       "    </tr>\n",
       "    <tr>\n",
       "      <th>CompromisoP</th>\n",
       "      <td>0.983924</td>\n",
       "      <td>0.264967</td>\n",
       "      <td>True</td>\n",
       "    </tr>\n",
       "  </tbody>\n",
       "</table>\n",
       "</div>"
      ],
      "text/plain": [
       "                        W      pval  normal\n",
       "Conservadurismo  0.976677  0.073023    True\n",
       "CompromisoP      0.983924  0.264967    True"
      ]
     },
     "execution_count": 20,
     "metadata": {},
     "output_type": "execute_result"
    }
   ],
   "source": [
    "pg.normality(df[[\"Conservadurismo\", \"CompromisoP\"]])"
   ]
  },
  {
   "attachments": {},
   "cell_type": "markdown",
   "metadata": {},
   "source": [
    "Tanto conservadurismo, SW =.98, p=.07, como compromiso paterno, SW =.98, p=.27, cuentan con una distribución normal por lo que se utilizará el análsis de correlación de Pearson para corroborar la tendencia del gráfico de dispersión."
   ]
  },
  {
   "cell_type": "code",
   "execution_count": 21,
   "metadata": {},
   "outputs": [
    {
     "data": {
      "text/html": [
       "<div>\n",
       "<style scoped>\n",
       "    .dataframe tbody tr th:only-of-type {\n",
       "        vertical-align: middle;\n",
       "    }\n",
       "\n",
       "    .dataframe tbody tr th {\n",
       "        vertical-align: top;\n",
       "    }\n",
       "\n",
       "    .dataframe thead th {\n",
       "        text-align: right;\n",
       "    }\n",
       "</style>\n",
       "<table border=\"1\" class=\"dataframe\">\n",
       "  <thead>\n",
       "    <tr style=\"text-align: right;\">\n",
       "      <th></th>\n",
       "      <th>X</th>\n",
       "      <th>Y</th>\n",
       "      <th>method</th>\n",
       "      <th>alternative</th>\n",
       "      <th>n</th>\n",
       "      <th>r</th>\n",
       "      <th>CI95%</th>\n",
       "      <th>p-unc</th>\n",
       "      <th>BF10</th>\n",
       "      <th>power</th>\n",
       "    </tr>\n",
       "  </thead>\n",
       "  <tbody>\n",
       "    <tr>\n",
       "      <th>0</th>\n",
       "      <td>Conservadurismo</td>\n",
       "      <td>CompromisoP</td>\n",
       "      <td>pearson</td>\n",
       "      <td>less</td>\n",
       "      <td>100</td>\n",
       "      <td>-0.339069</td>\n",
       "      <td>[-1.0, -0.18]</td>\n",
       "      <td>0.000279</td>\n",
       "      <td>88.318</td>\n",
       "      <td>0.967808</td>\n",
       "    </tr>\n",
       "  </tbody>\n",
       "</table>\n",
       "</div>"
      ],
      "text/plain": [
       "                 X            Y   method alternative    n         r  \\\n",
       "0  Conservadurismo  CompromisoP  pearson        less  100 -0.339069   \n",
       "\n",
       "           CI95%     p-unc    BF10     power  \n",
       "0  [-1.0, -0.18]  0.000279  88.318  0.967808  "
      ]
     },
     "execution_count": 21,
     "metadata": {},
     "output_type": "execute_result"
    }
   ],
   "source": [
    "pg.pairwise_corr(\n",
    "    columns=[\"Conservadurismo\", \"CompromisoP\"],\n",
    "    method=\"pearson\",\n",
    "    data=df,\n",
    "    alternative=\"less\",\n",
    ")"
   ]
  },
  {
   "attachments": {},
   "cell_type": "markdown",
   "metadata": {},
   "source": [
    "Existe una asociación lineal inversa significativa y de magnitud mediana entre el conservadurismo y el compromiso paterno, r(98) = –.34, p < .001 (unilateral)."
   ]
  },
  {
   "cell_type": "code",
   "execution_count": 26,
   "metadata": {},
   "outputs": [
    {
     "data": {
      "text/html": [
       "<table class=\"simpletable\">\n",
       "<caption>OLS Regression Results</caption>\n",
       "<tr>\n",
       "  <th>Dep. Variable:</th>       <td>CompromisoP</td>   <th>  R-squared:         </th> <td>   0.115</td>\n",
       "</tr>\n",
       "<tr>\n",
       "  <th>Model:</th>                   <td>OLS</td>       <th>  Adj. R-squared:    </th> <td>   0.106</td>\n",
       "</tr>\n",
       "<tr>\n",
       "  <th>Method:</th>             <td>Least Squares</td>  <th>  F-statistic:       </th> <td>   12.73</td>\n",
       "</tr>\n",
       "<tr>\n",
       "  <th>Date:</th>             <td>Wed, 17 May 2023</td> <th>  Prob (F-statistic):</th> <td>0.000559</td>\n",
       "</tr>\n",
       "<tr>\n",
       "  <th>Time:</th>                 <td>07:51:04</td>     <th>  Log-Likelihood:    </th> <td> -398.79</td>\n",
       "</tr>\n",
       "<tr>\n",
       "  <th>No. Observations:</th>      <td>   100</td>      <th>  AIC:               </th> <td>   801.6</td>\n",
       "</tr>\n",
       "<tr>\n",
       "  <th>Df Residuals:</th>          <td>    98</td>      <th>  BIC:               </th> <td>   806.8</td>\n",
       "</tr>\n",
       "<tr>\n",
       "  <th>Df Model:</th>              <td>     1</td>      <th>                     </th>     <td> </td>   \n",
       "</tr>\n",
       "<tr>\n",
       "  <th>Covariance Type:</th>      <td>nonrobust</td>    <th>                     </th>     <td> </td>   \n",
       "</tr>\n",
       "</table>\n",
       "<table class=\"simpletable\">\n",
       "<tr>\n",
       "         <td></td>            <th>coef</th>     <th>std err</th>      <th>t</th>      <th>P>|t|</th>  <th>[0.025</th>    <th>0.975]</th>  \n",
       "</tr>\n",
       "<tr>\n",
       "  <th>Intercept</th>       <td>   72.5371</td> <td>    6.263</td> <td>   11.581</td> <td> 0.000</td> <td>   60.108</td> <td>   84.967</td>\n",
       "</tr>\n",
       "<tr>\n",
       "  <th>Conservadurismo</th> <td>   -2.2112</td> <td>    0.620</td> <td>   -3.568</td> <td> 0.001</td> <td>   -3.441</td> <td>   -0.981</td>\n",
       "</tr>\n",
       "</table>\n",
       "<table class=\"simpletable\">\n",
       "<tr>\n",
       "  <th>Omnibus:</th>       <td> 1.268</td> <th>  Durbin-Watson:     </th> <td>   2.150</td>\n",
       "</tr>\n",
       "<tr>\n",
       "  <th>Prob(Omnibus):</th> <td> 0.530</td> <th>  Jarque-Bera (JB):  </th> <td>   1.349</td>\n",
       "</tr>\n",
       "<tr>\n",
       "  <th>Skew:</th>          <td> 0.240</td> <th>  Prob(JB):          </th> <td>   0.510</td>\n",
       "</tr>\n",
       "<tr>\n",
       "  <th>Kurtosis:</th>      <td> 2.696</td> <th>  Cond. No.          </th> <td>    48.5</td>\n",
       "</tr>\n",
       "</table><br/><br/>Notes:<br/>[1] Standard Errors assume that the covariance matrix of the errors is correctly specified."
      ],
      "text/plain": [
       "<class 'statsmodels.iolib.summary.Summary'>\n",
       "\"\"\"\n",
       "                            OLS Regression Results                            \n",
       "==============================================================================\n",
       "Dep. Variable:            CompromisoP   R-squared:                       0.115\n",
       "Model:                            OLS   Adj. R-squared:                  0.106\n",
       "Method:                 Least Squares   F-statistic:                     12.73\n",
       "Date:                Wed, 17 May 2023   Prob (F-statistic):           0.000559\n",
       "Time:                        07:51:04   Log-Likelihood:                -398.79\n",
       "No. Observations:                 100   AIC:                             801.6\n",
       "Df Residuals:                      98   BIC:                             806.8\n",
       "Df Model:                           1                                         \n",
       "Covariance Type:            nonrobust                                         \n",
       "===================================================================================\n",
       "                      coef    std err          t      P>|t|      [0.025      0.975]\n",
       "-----------------------------------------------------------------------------------\n",
       "Intercept          72.5371      6.263     11.581      0.000      60.108      84.967\n",
       "Conservadurismo    -2.2112      0.620     -3.568      0.001      -3.441      -0.981\n",
       "==============================================================================\n",
       "Omnibus:                        1.268   Durbin-Watson:                   2.150\n",
       "Prob(Omnibus):                  0.530   Jarque-Bera (JB):                1.349\n",
       "Skew:                           0.240   Prob(JB):                        0.510\n",
       "Kurtosis:                       2.696   Cond. No.                         48.5\n",
       "==============================================================================\n",
       "\n",
       "Notes:\n",
       "[1] Standard Errors assume that the covariance matrix of the errors is correctly specified.\n",
       "\"\"\""
      ]
     },
     "execution_count": 26,
     "metadata": {},
     "output_type": "execute_result"
    }
   ],
   "source": [
    "model = smf.ols(\"CompromisoP ~ Conservadurismo\", data=df).fit()\n",
    "model.summary()"
   ]
  },
  {
   "cell_type": "code",
   "execution_count": 27,
   "metadata": {},
   "outputs": [
    {
     "name": "stdout",
     "output_type": "stream",
     "text": [
      "Error estándar de la estimación: 13.184156848549414\n"
     ]
    }
   ],
   "source": [
    "error = np.sqrt(model.mse_resid)\n",
    "print(\"Error estándar de la estimación:\", error)"
   ]
  },
  {
   "attachments": {},
   "cell_type": "markdown",
   "metadata": {},
   "source": [
    "En cuanto al ajuste del modelo, el ANOVA sugiere que el modelo propuesto es pertinente para predecir cambios en el compromiso paterno, F(1, 98) = 12.73, p = .001.\n",
    "\n",
    "Asimismo, se obtuvo un R2 de .115, de modo que el 11.5% de la variabilidad de compromiso paterno se explica por el conservadurismo. Según los criterios de Cohen (1988), el coeficiente de determinación es de magnitud mediana."
   ]
  },
  {
   "attachments": {},
   "cell_type": "markdown",
   "metadata": {},
   "source": [
    "El análisis de regresión lineal simple muestra que $β_{0} = 72.54$, $p < .001$ y  $β_{conservadurismo} = –2.21$, $p < .001$ (unilateral). \n",
    "\n",
    "El conservadurismo predice significativamente un menor compromiso paterno, $β = –2.21$, $EE_{β}=0.62$, $t(98) = –3.57$, $p <.001$, existiendo entre ambos una asociación inversa significativa con un tamaño del efecto mediano, $R^{2} = .115$, $F(1, 98)=12.73$, $p = .001$. \n",
    "\n",
    "Así, por cada unidad de conservadurismo, el compromiso paterno disminuye en 2.21. En conclusión, la evidencia estadística sugiere que el conservadurismo reduce el compromiso paterno en papás de preescolares en Loreto.\n",
    "\n",
    "$Compromiso \\ paterno = 72.54 – 2.21 (conservadurismo) \\pm 13.18$"
   ]
  }
 ],
 "metadata": {
  "kernelspec": {
   "display_name": "Python 3.7.13 ('stats')",
   "language": "python",
   "name": "python3"
  },
  "language_info": {
   "codemirror_mode": {
    "name": "ipython",
    "version": 3
   },
   "file_extension": ".py",
   "mimetype": "text/x-python",
   "name": "python",
   "nbconvert_exporter": "python",
   "pygments_lexer": "ipython3",
   "version": "3.7.14"
  },
  "orig_nbformat": 4,
  "vscode": {
   "interpreter": {
    "hash": "8df12303a5084d795bcef355ea103bbaab8787933417cf27c2f95a588cdf8ee7"
   }
  }
 },
 "nbformat": 4,
 "nbformat_minor": 2
}
